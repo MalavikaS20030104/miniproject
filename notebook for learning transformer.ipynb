{
 "cells": [
  {
   "cell_type": "code",
   "execution_count": null,
   "id": "0f9a66a5-e2be-4165-a5c3-02a18ac219ab",
   "metadata": {},
   "outputs": [],
   "source": [
    "from datasets import load_dataset\n",
    "dataset=load_dataset(\"go_emotions\")"
   ]
  },
  {
   "cell_type": "code",
   "execution_count": null,
   "id": "aeac73a3-31c4-46a5-bc5d-34e9ed6ec496",
   "metadata": {},
   "outputs": [],
   "source": [
    "#--import the tokenizer--\n",
    "from transformers import BertTokenizer \n",
    "tokenizer=BertTokenizer.from_pretrained(\"bert_base_uncased\")\n",
    "def tokenizer_function(examples):\n",
    "    return tokenizer(examples[\"text\"],padding=\"max_length\",truncation=True)\n",
    "tokenized_datasets=dataset.map(tokenizer_function,batched=True)"
   ]
  },
  {
   "cell_type": "code",
   "execution_count": null,
   "id": "a76e7a78-9b1b-4ba2-9b29-ace624870c7b",
   "metadata": {},
   "outputs": [],
   "source": [
    "#--load the pretrained bert model--\n",
    "from transformers import BertForSequenceClassification\n",
    "#--number of emotion lables(GoEmotions has 27)\n",
    "num_labels=27\n",
    "#--load the pretrained BERT for classification\n",
    "model=BertForSequenceClassification.from_pretrained(\"bert-base-uncased\",num_labels)\n",
    "\n"
   ]
  },
  {
   "cell_type": "code",
   "execution_count": null,
   "id": "92a3de28-4d9c-42f0-98e6-780d5dc3fc64",
   "metadata": {},
   "outputs": [],
   "source": [
    "#Fine-tune BERT on GoEMotions\n",
    "from transformers import TrainingArguments, Trainer\n",
    "import torch\n",
    "\n",
    "training_args = TrainingArguments(\n",
    "    output_dir=\"./results\",\n",
    "    evaluation_strategy=\"epoch\",\n",
    "    save_strategy=\"epoch\",\n",
    "    per_device_train_batch_size=8,\n",
    "    per_device_eval_batch_size=8,\n",
    "    num_train_epochs=3,  # Adjust based on performance\n",
    "    weight_decay=0.01,\n",
    ")\n",
    "\n",
    "trainer = Trainer(\n",
    "    model=model,\n",
    "    args=training_args,\n",
    "    train_dataset=tokenized_datasets[\"train\"],\n",
    "    eval_dataset=tokenized_datasets[\"test\"],\n",
    ")\n",
    "\n",
    "trainer.train()\n",
    "trainer.evaluate()"
   ]
  },
  {
   "cell_type": "code",
   "execution_count": null,
   "id": "101a9219-2056-45ae-8e62-84af035536d3",
   "metadata": {},
   "outputs": [],
   "source": [
    "import torch\n",
    "\n",
    "def predict_emotion(text):\n",
    "    inputs = tokenizer(text, return_tensors=\"pt\", padding=True, truncation=True)\n",
    "    outputs = model(**inputs)\n",
    "    logits = outputs.logits\n",
    "    predicted_class = torch.argmax(logits, dim=1)\n",
    "    return predicted_class.item()\n"
   ]
  },
  {
   "cell_type": "code",
   "execution_count": null,
   "id": "9005bb8d-cc59-4f19-81de-bf4dde8be67e",
   "metadata": {},
   "outputs": [],
   "source": [
    "# Example prediction\n",
    "text =input(\"hey!! how do you feel today!!\")\n",
    "emotion_label = predict_emotion(text)\n",
    "print(f\"Predicted Emotion Label: {emotion_label}\")\n",
    "\n"
   ]
  },
  {
   "cell_type": "code",
   "execution_count": null,
   "id": "c5a11dfd-1a55-4c59-9850-d84c995cc8de",
   "metadata": {},
   "outputs": [],
   "source": []
  }
 ],
 "metadata": {
  "kernelspec": {
   "display_name": "Python 3 (ipykernel)",
   "language": "python",
   "name": "python3"
  },
  "language_info": {
   "codemirror_mode": {
    "name": "ipython",
    "version": 3
   },
   "file_extension": ".py",
   "mimetype": "text/x-python",
   "name": "python",
   "nbconvert_exporter": "python",
   "pygments_lexer": "ipython3",
   "version": "3.12.4"
  }
 },
 "nbformat": 4,
 "nbformat_minor": 5
}
